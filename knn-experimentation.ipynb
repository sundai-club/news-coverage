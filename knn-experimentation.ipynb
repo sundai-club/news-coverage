{
 "cells": [
  {
   "cell_type": "code",
   "execution_count": 1,
   "metadata": {},
   "outputs": [
    {
     "name": "stdout",
     "output_type": "stream",
     "text": [
      "Item 1:\n",
      "  Title: Generative Camera Dolly: Extreme Monocular Dynamic Novel View Synthesis\n",
      "  Type: paper\n",
      "  Link: http://arxiv.org/abs/2405.14868v1\n",
      "  Embedding: [-0.608298659324646, -0.010770933702588081, 1.0775866508483887, -0.22171369194984436, -0.19240504503250122, -0.40922755002975464, -0.12438789010047913, -0.8952761888504028, 0.7575365304946899, -0.3842252492904663]...\n",
      "\n",
      "Item 2:\n",
      "  Title: Privileged Sensing Scaffolds Reinforcement Learning\n",
      "  Type: paper\n",
      "  Link: http://arxiv.org/abs/2405.14853v1\n",
      "  Embedding: [-0.9499078989028931, -0.05496533587574959, 0.8581719398498535, -0.3367142081260681, -0.24041947722434998, -0.4854498505592346, 0.005895907990634441, -0.9775391817092896, 0.9539982080459595, -0.7237332463264465]...\n",
      "\n",
      "Item 3:\n",
      "  Title: Learning to Detect and Segment Mobile Objects from Unlabeled Videos\n",
      "  Type: paper\n",
      "  Link: http://arxiv.org/abs/2405.14841v1\n",
      "  Embedding: [-1.0691289901733398, 0.10139864683151245, 0.4131864309310913, -0.3225151598453522, -0.06406674534082413, -0.15330770611763, -0.07225896418094635, -0.8649058938026428, 0.27009299397468567, -0.04917198419570923]...\n",
      "\n",
      "Item 4:\n",
      "  Title: Differentiable Annealed Importance Sampling Minimizes The Jensen-Shannon Divergence Between Initial and Target Distribution\n",
      "  Type: paper\n",
      "  Link: http://arxiv.org/abs/2405.14840v1\n",
      "  Embedding: [-1.0648627281188965, -0.40123242139816284, 0.48571693897247314, -0.13977983593940735, -0.596741795539856, -0.47373807430267334, -0.09131395816802979, -0.921286940574646, 0.06595953553915024, -0.2612018287181854]...\n",
      "\n",
      "Item 5:\n",
      "  Title: As an AI Language Model, \"Yes I Would Recommend Calling the Police'': Norm Inconsistency in LLM Decision-Making\n",
      "  Type: paper\n",
      "  Link: http://arxiv.org/abs/2405.14812v1\n",
      "  Embedding: [-1.1223015785217285, -0.2460060566663742, 0.5818678140640259, -0.5130946636199951, -0.4771963357925415, -0.39959996938705444, 0.36719387769699097, -0.6502920985221863, 0.7444263696670532, -0.2552931308746338]...\n",
      "\n"
     ]
    }
   ],
   "source": [
    "import json\n",
    "\n",
    "# Load the JSON file\n",
    "with open('embeddings.json', 'r') as file:\n",
    "    data = json.load(file)\n",
    "\n",
    "# Extract the embeddings list\n",
    "embeddings = data.get('embeddings', [])\n",
    "\n",
    "# Display the first few items to verify the data\n",
    "for i, item in enumerate(embeddings[:5]):\n",
    "    print(f\"Item {i+1}:\")\n",
    "    print(f\"  Title: {item['title']}\")\n",
    "    print(f\"  Type: {item['type']}\")\n",
    "    print(f\"  Link: {item['link']}\")\n",
    "    print(f\"  Embedding: {item['embedding'][:10]}...\")  # Show only the first 10 values of the embedding for brevity\n",
    "    print()\n"
   ]
  },
  {
   "cell_type": "code",
   "execution_count": 2,
   "metadata": {},
   "outputs": [],
   "source": [
    "import os\n",
    "from sentence_transformers import SentenceTransformer\n",
    "import umap\n",
    "import plotly.express as px\n",
    "from sklearn.feature_extraction.text import TfidfVectorizer\n",
    "from gensim.models.doc2vec import Doc2Vec, TaggedDocument\n",
    "import nltk\n",
    "from nltk.corpus import stopwords\n",
    "from nltk.tokenize import word_tokenize\n",
    "import string"
   ]
  },
  {
   "cell_type": "code",
   "execution_count": null,
   "metadata": {},
   "outputs": [],
   "source": [
    "# Combine titles and texts\n",
    "documents = []\n",
    "types = []"
   ]
  }
 ],
 "metadata": {
  "kernelspec": {
   "display_name": "TextDeformer",
   "language": "python",
   "name": "python3"
  },
  "language_info": {
   "codemirror_mode": {
    "name": "ipython",
    "version": 3
   },
   "file_extension": ".py",
   "mimetype": "text/x-python",
   "name": "python",
   "nbconvert_exporter": "python",
   "pygments_lexer": "ipython3",
   "version": "3.9.18"
  }
 },
 "nbformat": 4,
 "nbformat_minor": 2
}
