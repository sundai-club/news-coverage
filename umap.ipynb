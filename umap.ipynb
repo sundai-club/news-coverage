{
 "cells": [
  {
   "cell_type": "code",
   "execution_count": 22,
   "metadata": {},
   "outputs": [],
   "source": [
    "import json\n",
    "import os\n",
    "\n",
    "# Define the file paths\n",
    "file_details = {\n",
    "    \"articles\": {\"path\": \"documents/articles.json\", \"type\": \"article\"},\n",
    "    \"hackernews\": {\"path\": \"documents/hackernews.json\", \"type\": \"hacker-news\"},\n",
    "    \"papers\": {\"path\": \"documents/papers.json\", \"type\": \"paper\"},\n",
    "    \"reddit\": {\"path\": \"documents/reddit.json\", \"type\": \"reddit\"}\n",
    "}\n",
    "\n",
    "# Load the json data with type tracking\n",
    "data = {}\n",
    "for key, details in file_details.items():\n",
    "    path = details[\"path\"]\n",
    "    doc_type = details[\"type\"]\n",
    "    with open(path, 'r') as file:\n",
    "        entries = json.load(file)\n",
    "        data[key] = [(entry['title'], entry['text'], doc_type) for entry in entries]\n",
    "\n",
    "# Combine titles and texts\n",
    "documents = []\n",
    "types = []\n",
    "\n",
    "for key in data:\n",
    "    for entry in data[key]:\n",
    "        title, text, doc_type = entry\n",
    "        documents.append(title + \" \" + text)\n",
    "        types.append(doc_type)\n",
    "\n",
    "# Preprocess the text\n",
    "def preprocess_text(text):\n",
    "    tokens = word_tokenize(text.lower())\n",
    "    tokens = [word for word in tokens if word.isalnum()]\n",
    "    tokens = [word for word in tokens if word not in stopwords.words('english')]\n",
    "    return ' '.join(tokens)\n",
    "\n",
    "processed_documents = [preprocess_text(doc) for doc in documents]\n",
    "\n",
    "# TF-IDF Vectorizer\n",
    "tfidf_vectorizer = TfidfVectorizer()\n",
    "tfidf_embeddings = tfidf_vectorizer.fit_transform(processed_documents).toarray()\n",
    "\n",
    "# Create tagged documents for Doc2Vec\n",
    "tagged_documents = [TaggedDocument(words=doc.split(), tags=[str(i)]) for i, doc in enumerate(processed_documents)]\n",
    "\n",
    "# Initialize and train Doc2Vec model\n",
    "doc2vec_model = Doc2Vec(vector_size=100, window=5, min_count=1, workers=4, epochs=40)\n",
    "doc2vec_model.build_vocab(tagged_documents)\n",
    "doc2vec_model.train(tagged_documents, total_examples=doc2vec_model.corpus_count, epochs=doc2vec_model.epochs)\n",
    "\n",
    "# Infer embeddings\n",
    "doc2vec_embeddings = [doc2vec_model.infer_vector(doc.split()) for doc in processed_documents]"
   ]
  },
  {
   "cell_type": "code",
   "execution_count": 23,
   "metadata": {},
   "outputs": [
    {
     "data": {
      "application/vnd.plotly.v1+json": {
       "config": {
        "plotlyServerURL": "https://plot.ly"
       },
       "data": [
        {
         "customdata": [
          [
           "Title: Here's the moment Nvidia became the AI king and what it must do this week to keep the throne"
          ],
          [
           "Title: Tens Summoned by Criminal Police Over Protests"
          ],
          [
           "Title: How are you using AI to cope with grief? We want to hear from you"
          ],
          [
           "Title: Border Patrol agents reveal how easily terrorists and killers get into US despite being screened"
          ],
          [
           "Title: Tech firm set to launch AI product, train students"
          ],
          [
           "Title: German, French Leaders Say Georgian Government, Ruling Party “Deviate” from EU Path"
          ],
          [
           "Title: Process of making passport will be made easier, says Naqvi"
          ],
          [
           "Title: Brace up for AI, robotics, automation threats, CIPM boss charges workers"
          ],
          [
           "Title: Buildout, Inc. Unveils Game-Changing Technology Stack including an AI-Enabled Mobile App"
          ],
          [
           "Title: Danny Batth hints he's set to become free agent less than a year after Norwich City move in 42-word message"
          ],
          [
           "Title: Personal Data Protection Service Says Regulatory Clarifications are Necessary in the Agents’ Law"
          ],
          [
           "Title: Denver Broncos could resurrect career of former All-Pro wide receiver"
          ],
          [
           "Title: 20 Premier League free agents Leeds United could sign including Arsenal, Newcastle United and Everton stars"
          ],
          [
           "Title: Among AI infrastructure hopefuls, Qualcomm has become an unlikely ally"
          ],
          [
           "Title: Bruins’ Jeremy Swayman Shares Clear Goal For Free Agency"
          ],
          [
           "Title: Fund thesis: AI is the X-factor "
          ],
          [
           "Title: Despite Salaries Below $500,000, Here’s How College Football Coaches Build Million-Dollar Empires"
          ],
          [
           "Title: Customer service staff hired at HMRC – without speaking to a human"
          ],
          [
           "Title: Swecha to develop Telugu language-centric Large Language Models"
          ],
          [
           "Title: Beursweek begint rustig, beleggers kijken uit naar Fed en Nvidia"
          ],
          [
           "Title: Putin pressas av hemliga agenter på hemmaplan"
          ],
          [
           "Title: 12 New York Giants free agents remain as OTAs begin"
          ],
          [
           "Title: Heroes in green: Guardia Civil rescues baby locked in car"
          ],
          [
           "Title: Finland to present plan to push back migrants on Russian border"
          ],
          [
           "Title: Spam, junk … slop? The latest wave of AI behind the ‘zombie internet’"
          ]
         ],
         "hovertemplate": "color=article<br>UMAP 1=%{x}<br>UMAP 2=%{y}<br>text=%{customdata[0]}<extra></extra>",
         "legendgroup": "article",
         "marker": {
          "color": "#636efa",
          "symbol": "circle"
         },
         "mode": "markers",
         "name": "article",
         "orientation": "v",
         "showlegend": true,
         "type": "scatter",
         "x": [
          6.379425048828125,
          4.429749011993408,
          7.41870641708374,
          5.120318412780762,
          7.809604644775391,
          4.541006088256836,
          5.189230918884277,
          7.397609233856201,
          8.006237983703613,
          6.4948883056640625,
          4.926086902618408,
          5.20103645324707,
          5.6447954177856445,
          7.194172382354736,
          6.02318000793457,
          7.761712551116943,
          5.482229709625244,
          6.033421516418457,
          9.649712562561035,
          6.637607574462891,
          7.090640068054199,
          6.099794387817383,
          4.562064170837402,
          4.746212005615234,
          7.698829174041748
         ],
         "xaxis": "x",
         "y": [
          16.143962860107422,
          13.599751472473145,
          13.351948738098145,
          15.119647026062012,
          13.846413612365723,
          13.490938186645508,
          13.864313125610352,
          13.83250904083252,
          16.248424530029297,
          13.669418334960938,
          13.377324104309082,
          14.461166381835938,
          14.02944278717041,
          12.671564102172852,
          13.629958152770996,
          13.360167503356934,
          15.409910202026367,
          12.920354843139648,
          14.4192476272583,
          15.974913597106934,
          16.28253936767578,
          13.954707145690918,
          14.574064254760742,
          14.730279922485352,
          13.049174308776855
         ],
         "yaxis": "y"
        },
        {
         "customdata": [
          [
           "Title: Huginn: Create agents that monitor and act on your behalf"
          ],
          [
           "Title: Agents raid home of fired Florida data scientist who built Covid-19 dashboard"
          ],
          [
           "Title: Amazon reportedly has Pinkerton agents surveil workers who try to form unions"
          ],
          [
           "Title: I am under surveillance by Canadian agents, my computer has been backdoored"
          ],
          [
           "Title: U.S. directs agents to cover up program used to investigate Americans"
          ],
          [
           "Title: FBI agents accuse CIA of 9/11 coverup"
          ],
          [
           "Title: SCOTUS rules you may sue government agents for damages when they violate rights"
          ],
          [
           "Title: Generative Agents: Interactive Simulacra of Human Behavior"
          ],
          [
           "Title: Sergey Aleynikov Sues FBI Agents Who Arrested Him"
          ],
          [
           "Title: Be Careful when Speaking to Federal Agents - 18 U.S.C. Section 1001"
          ]
         ],
         "hovertemplate": "color=hacker-news<br>UMAP 1=%{x}<br>UMAP 2=%{y}<br>text=%{customdata[0]}<extra></extra>",
         "legendgroup": "hacker-news",
         "marker": {
          "color": "#EF553B",
          "symbol": "circle"
         },
         "mode": "markers",
         "name": "hacker-news",
         "orientation": "v",
         "showlegend": true,
         "type": "scatter",
         "x": [
          2.5970964431762695,
          3.1898562908172607,
          2.8740994930267334,
          4.833714485168457,
          3.2955689430236816,
          2.765911817550659,
          3.737928867340088,
          2.8685176372528076,
          3.439840793609619,
          4.455838680267334
         ],
         "xaxis": "x",
         "y": [
          12.627908706665039,
          13.238758087158203,
          12.968268394470215,
          15.245104789733887,
          13.582977294921875,
          12.766427993774414,
          13.427687644958496,
          13.58340072631836,
          13.40950870513916,
          14.287786483764648
         ],
         "yaxis": "y"
        },
        {
         "customdata": [
          [
           "Title: How Far Are We From AGI"
          ],
          [
           "Title: Societal Adaptation to Advanced AI"
          ],
          [
           "Title: Fine-Tuning Large Vision-Language Models as Decision-Making Agents via Reinforcement Learning"
          ],
          [
           "Title: Biasing & Debiasing based Approach Towards Fair Knowledge Transfer for Equitable Skin Analysis"
          ],
          [
           "Title: When LLMs step into the 3D World: A Survey and Meta-Analysis of 3D Tasks via Multi-modal Large Language Models"
          ],
          [
           "Title: Co-Matching: Towards Human-Machine Collaborative Legal Case Matching"
          ],
          [
           "Title: Novel Data Models for Inter-operable LCA Frameworks"
          ],
          [
           "Title: A Design Trajectory Map of Human-AI Collaborative Reinforcement Learning Systems: Survey and Taxonomy"
          ],
          [
           "Title: GPT Store Mining and Analysis"
          ],
          [
           "Title: \"The Death of Wikipedia?\" -- Exploring the Impact of ChatGPT on Wikipedia Engagement"
          ],
          [
           "Title: A Guide to Tracking Phylogenies in Parallel and Distributed Agent-based Evolution Models"
          ],
          [
           "Title: Speaker Verification in Agent-Generated Conversations"
          ],
          [
           "Title: Towards Consistent and Explainable Motion Prediction using Heterogeneous Graph Attention"
          ],
          [
           "Title: StyloAI: Distinguishing AI-Generated Content with Stylometric Analysis"
          ],
          [
           "Title: Red Teaming Language Models for Contradictory Dialogues"
          ],
          [
           "Title: When Large Language Model Meets Optimization"
          ],
          [
           "Title: Optimizing Search and Rescue UAV Connectivity in Challenging Terrain through Multi Q-Learning"
          ],
          [
           "Title: Silicon nitride integrated photonics from visible to mid-infrared spectra"
          ],
          [
           "Title: Solving the enigma: Deriving optimal explanations of deep networks"
          ],
          [
           "Title: Semantic Communication via Rate Distortion Perception Bottleneck"
          ],
          [
           "Title: Pedestrian evacuations with imitation of cooperative behavior"
          ],
          [
           "Title: Mitigating Text Toxicity with Counterfactual Generation"
          ],
          [
           "Title: DEBATE: Devil's Advocate-Based Assessment and Text Evaluation"
          ],
          [
           "Title: Stock Market Dynamics Through Deep Learning Context"
          ],
          [
           "Title: Infrared Adversarial Car Stickers"
          ],
          [
           "Title: \"Hunt Takes Hare\": Theming Games Through Game-Word Vector Translation"
          ],
          [
           "Title: IGOT: Information Gain Optimized Tokenizer on Domain Adaptive Pretraining"
          ],
          [
           "Title: Organizational Selection of Innovation"
          ],
          [
           "Title: Nearly Minimax Optimal Regret for Multinomial Logistic Bandit"
          ],
          [
           "Title: Human-AI Safety: A Descendant of Generative AI and Control Systems Safety"
          ]
         ],
         "hovertemplate": "color=paper<br>UMAP 1=%{x}<br>UMAP 2=%{y}<br>text=%{customdata[0]}<extra></extra>",
         "legendgroup": "paper",
         "marker": {
          "color": "#00cc96",
          "symbol": "circle"
         },
         "mode": "markers",
         "name": "paper",
         "orientation": "v",
         "showlegend": true,
         "type": "scatter",
         "x": [
          8.063474655151367,
          7.523776531219482,
          8.847124099731445,
          10.468719482421875,
          9.606827735900879,
          8.854734420776367,
          8.089021682739258,
          8.679348945617676,
          9.683589935302734,
          7.546760082244873,
          8.555195808410645,
          10.022725105285645,
          9.340048789978027,
          10.115093231201172,
          10.393832206726074,
          9.205204963684082,
          9.016919136047363,
          9.080185890197754,
          10.199576377868652,
          8.810609817504883,
          5.905343055725098,
          9.959946632385254,
          9.480260848999023,
          9.592363357543945,
          10.008977890014648,
          6.747640609741211,
          7.6517791748046875,
          9.089959144592285,
          9.194890975952148,
          7.932393550872803
         ],
         "xaxis": "x",
         "y": [
          12.670422554016113,
          12.773682594299316,
          14.040075302124023,
          14.399380683898926,
          13.984813690185547,
          12.981298446655273,
          14.997055053710938,
          13.480734825134277,
          13.138947486877441,
          14.975785255432129,
          16.401247024536133,
          15.108931541442871,
          13.575644493103027,
          15.563475608825684,
          14.498316764831543,
          14.77271842956543,
          15.422333717346191,
          14.508674621582031,
          14.144508361816406,
          15.214953422546387,
          14.726449966430664,
          15.655915260314941,
          16.02201271057129,
          12.98674201965332,
          13.705595970153809,
          14.896995544433594,
          14.596811294555664,
          16.388490676879883,
          12.756895065307617,
          13.13524341583252
         ],
         "yaxis": "y"
        },
        {
         "customdata": [
          [
           "Title: LLM Agent platforms"
          ],
          [
           "Title: CRISPR-GPT: An LLM Agent for Automated Design of Gene-Editing Experiments"
          ],
          [
           "Title: Nuggt: A LLM Agent that runs on Wizcoder-15B (4-bit Quantised). It's time to democratise LLM Agents"
          ],
          [
           "Title: No, LLM Agents can not Autonomously Exploit One-day Vulnerabilities."
          ],
          [
           "Title: [R] Data Interpreter: An LLM Agent for Data Science"
          ],
          [
           "Title: Launching AgentSearch - A local search engine for your LLM agent"
          ],
          [
           "Title: [P] Nuggt: A LLM Agent that runs on Wizcoder-15B (4-bit Quantised). It's time to democratise LLM Agents"
          ],
          [
           "Title: LLM agents can autonomously exploit one-day vulnerabilities"
          ],
          [
           "Title: [R] CRISPR-GPT: An LLM Agent for Automated Design of Gene-Editing Experiments"
          ],
          [
           "Title: Nuggt: A LLM Agent the runs on WizardCoder-15B (4-bit quantised). It's time to democratise LLM Agents"
          ],
          [
           "Title: [R] AIOS: LLM Agent Operating System"
          ],
          [
           "Title: 🌟📚 Introducing LLM-Agents-Papers-for-Simulation Repository! 📚🌟"
          ],
          [
           "Title: LLM Agents can Autonomously Exploit One-day Vulnerabilities"
          ],
          [
           "Title: AIOS: LLM Agent Operating System"
          ],
          [
           "Title: What's the use case for LLM agents?"
          ],
          [
           "Title: 🌟📚 Introducing LLM-Agents-Papers-for-Simulation Repository! 📚🌟"
          ],
          [
           "Title: LLM Agents can Autonomously Hack Websites"
          ],
          [
           "Title: LLM Agents can Autonomously Hack Websites"
          ],
          [
           "Title: Looking for best resources on LLM Agents"
          ],
          [
           "Title: LLM agent writes code to train robots"
          ]
         ],
         "hovertemplate": "color=reddit<br>UMAP 1=%{x}<br>UMAP 2=%{y}<br>text=%{customdata[0]}<extra></extra>",
         "legendgroup": "reddit",
         "marker": {
          "color": "#ab63fa",
          "symbol": "circle"
         },
         "mode": "markers",
         "name": "reddit",
         "orientation": "v",
         "showlegend": true,
         "type": "scatter",
         "x": [
          7.191868305206299,
          6.334977626800537,
          7.195043563842773,
          6.559696197509766,
          8.357804298400879,
          7.708393096923828,
          6.843719005584717,
          6.805407524108887,
          6.317338943481445,
          6.733634948730469,
          8.931546211242676,
          8.295207023620605,
          7.217229843139648,
          9.172348976135254,
          8.244935035705566,
          8.324959754943848,
          7.597996234893799,
          7.851803779602051,
          8.688100814819336,
          6.52922248840332
         ],
         "xaxis": "x",
         "y": [
          16.74758529663086,
          17.4715518951416,
          17.206501007080078,
          17.66053581237793,
          14.698417663574219,
          16.911869049072266,
          17.13130760192871,
          17.990999221801758,
          17.228178024291992,
          17.73931312561035,
          17.008024215698242,
          16.844280242919922,
          17.5291805267334,
          17.113780975341797,
          15.787899017333984,
          16.991540908813477,
          17.965112686157227,
          17.899381637573242,
          17.326059341430664,
          16.471210479736328
         ],
         "yaxis": "y"
        }
       ],
       "layout": {
        "legend": {
         "title": {
          "text": "color"
         },
         "tracegroupgap": 0
        },
        "template": {
         "data": {
          "bar": [
           {
            "error_x": {
             "color": "#2a3f5f"
            },
            "error_y": {
             "color": "#2a3f5f"
            },
            "marker": {
             "line": {
              "color": "#E5ECF6",
              "width": 0.5
             },
             "pattern": {
              "fillmode": "overlay",
              "size": 10,
              "solidity": 0.2
             }
            },
            "type": "bar"
           }
          ],
          "barpolar": [
           {
            "marker": {
             "line": {
              "color": "#E5ECF6",
              "width": 0.5
             },
             "pattern": {
              "fillmode": "overlay",
              "size": 10,
              "solidity": 0.2
             }
            },
            "type": "barpolar"
           }
          ],
          "carpet": [
           {
            "aaxis": {
             "endlinecolor": "#2a3f5f",
             "gridcolor": "white",
             "linecolor": "white",
             "minorgridcolor": "white",
             "startlinecolor": "#2a3f5f"
            },
            "baxis": {
             "endlinecolor": "#2a3f5f",
             "gridcolor": "white",
             "linecolor": "white",
             "minorgridcolor": "white",
             "startlinecolor": "#2a3f5f"
            },
            "type": "carpet"
           }
          ],
          "choropleth": [
           {
            "colorbar": {
             "outlinewidth": 0,
             "ticks": ""
            },
            "type": "choropleth"
           }
          ],
          "contour": [
           {
            "colorbar": {
             "outlinewidth": 0,
             "ticks": ""
            },
            "colorscale": [
             [
              0,
              "#0d0887"
             ],
             [
              0.1111111111111111,
              "#46039f"
             ],
             [
              0.2222222222222222,
              "#7201a8"
             ],
             [
              0.3333333333333333,
              "#9c179e"
             ],
             [
              0.4444444444444444,
              "#bd3786"
             ],
             [
              0.5555555555555556,
              "#d8576b"
             ],
             [
              0.6666666666666666,
              "#ed7953"
             ],
             [
              0.7777777777777778,
              "#fb9f3a"
             ],
             [
              0.8888888888888888,
              "#fdca26"
             ],
             [
              1,
              "#f0f921"
             ]
            ],
            "type": "contour"
           }
          ],
          "contourcarpet": [
           {
            "colorbar": {
             "outlinewidth": 0,
             "ticks": ""
            },
            "type": "contourcarpet"
           }
          ],
          "heatmap": [
           {
            "colorbar": {
             "outlinewidth": 0,
             "ticks": ""
            },
            "colorscale": [
             [
              0,
              "#0d0887"
             ],
             [
              0.1111111111111111,
              "#46039f"
             ],
             [
              0.2222222222222222,
              "#7201a8"
             ],
             [
              0.3333333333333333,
              "#9c179e"
             ],
             [
              0.4444444444444444,
              "#bd3786"
             ],
             [
              0.5555555555555556,
              "#d8576b"
             ],
             [
              0.6666666666666666,
              "#ed7953"
             ],
             [
              0.7777777777777778,
              "#fb9f3a"
             ],
             [
              0.8888888888888888,
              "#fdca26"
             ],
             [
              1,
              "#f0f921"
             ]
            ],
            "type": "heatmap"
           }
          ],
          "heatmapgl": [
           {
            "colorbar": {
             "outlinewidth": 0,
             "ticks": ""
            },
            "colorscale": [
             [
              0,
              "#0d0887"
             ],
             [
              0.1111111111111111,
              "#46039f"
             ],
             [
              0.2222222222222222,
              "#7201a8"
             ],
             [
              0.3333333333333333,
              "#9c179e"
             ],
             [
              0.4444444444444444,
              "#bd3786"
             ],
             [
              0.5555555555555556,
              "#d8576b"
             ],
             [
              0.6666666666666666,
              "#ed7953"
             ],
             [
              0.7777777777777778,
              "#fb9f3a"
             ],
             [
              0.8888888888888888,
              "#fdca26"
             ],
             [
              1,
              "#f0f921"
             ]
            ],
            "type": "heatmapgl"
           }
          ],
          "histogram": [
           {
            "marker": {
             "pattern": {
              "fillmode": "overlay",
              "size": 10,
              "solidity": 0.2
             }
            },
            "type": "histogram"
           }
          ],
          "histogram2d": [
           {
            "colorbar": {
             "outlinewidth": 0,
             "ticks": ""
            },
            "colorscale": [
             [
              0,
              "#0d0887"
             ],
             [
              0.1111111111111111,
              "#46039f"
             ],
             [
              0.2222222222222222,
              "#7201a8"
             ],
             [
              0.3333333333333333,
              "#9c179e"
             ],
             [
              0.4444444444444444,
              "#bd3786"
             ],
             [
              0.5555555555555556,
              "#d8576b"
             ],
             [
              0.6666666666666666,
              "#ed7953"
             ],
             [
              0.7777777777777778,
              "#fb9f3a"
             ],
             [
              0.8888888888888888,
              "#fdca26"
             ],
             [
              1,
              "#f0f921"
             ]
            ],
            "type": "histogram2d"
           }
          ],
          "histogram2dcontour": [
           {
            "colorbar": {
             "outlinewidth": 0,
             "ticks": ""
            },
            "colorscale": [
             [
              0,
              "#0d0887"
             ],
             [
              0.1111111111111111,
              "#46039f"
             ],
             [
              0.2222222222222222,
              "#7201a8"
             ],
             [
              0.3333333333333333,
              "#9c179e"
             ],
             [
              0.4444444444444444,
              "#bd3786"
             ],
             [
              0.5555555555555556,
              "#d8576b"
             ],
             [
              0.6666666666666666,
              "#ed7953"
             ],
             [
              0.7777777777777778,
              "#fb9f3a"
             ],
             [
              0.8888888888888888,
              "#fdca26"
             ],
             [
              1,
              "#f0f921"
             ]
            ],
            "type": "histogram2dcontour"
           }
          ],
          "mesh3d": [
           {
            "colorbar": {
             "outlinewidth": 0,
             "ticks": ""
            },
            "type": "mesh3d"
           }
          ],
          "parcoords": [
           {
            "line": {
             "colorbar": {
              "outlinewidth": 0,
              "ticks": ""
             }
            },
            "type": "parcoords"
           }
          ],
          "pie": [
           {
            "automargin": true,
            "type": "pie"
           }
          ],
          "scatter": [
           {
            "fillpattern": {
             "fillmode": "overlay",
             "size": 10,
             "solidity": 0.2
            },
            "type": "scatter"
           }
          ],
          "scatter3d": [
           {
            "line": {
             "colorbar": {
              "outlinewidth": 0,
              "ticks": ""
             }
            },
            "marker": {
             "colorbar": {
              "outlinewidth": 0,
              "ticks": ""
             }
            },
            "type": "scatter3d"
           }
          ],
          "scattercarpet": [
           {
            "marker": {
             "colorbar": {
              "outlinewidth": 0,
              "ticks": ""
             }
            },
            "type": "scattercarpet"
           }
          ],
          "scattergeo": [
           {
            "marker": {
             "colorbar": {
              "outlinewidth": 0,
              "ticks": ""
             }
            },
            "type": "scattergeo"
           }
          ],
          "scattergl": [
           {
            "marker": {
             "colorbar": {
              "outlinewidth": 0,
              "ticks": ""
             }
            },
            "type": "scattergl"
           }
          ],
          "scattermapbox": [
           {
            "marker": {
             "colorbar": {
              "outlinewidth": 0,
              "ticks": ""
             }
            },
            "type": "scattermapbox"
           }
          ],
          "scatterpolar": [
           {
            "marker": {
             "colorbar": {
              "outlinewidth": 0,
              "ticks": ""
             }
            },
            "type": "scatterpolar"
           }
          ],
          "scatterpolargl": [
           {
            "marker": {
             "colorbar": {
              "outlinewidth": 0,
              "ticks": ""
             }
            },
            "type": "scatterpolargl"
           }
          ],
          "scatterternary": [
           {
            "marker": {
             "colorbar": {
              "outlinewidth": 0,
              "ticks": ""
             }
            },
            "type": "scatterternary"
           }
          ],
          "surface": [
           {
            "colorbar": {
             "outlinewidth": 0,
             "ticks": ""
            },
            "colorscale": [
             [
              0,
              "#0d0887"
             ],
             [
              0.1111111111111111,
              "#46039f"
             ],
             [
              0.2222222222222222,
              "#7201a8"
             ],
             [
              0.3333333333333333,
              "#9c179e"
             ],
             [
              0.4444444444444444,
              "#bd3786"
             ],
             [
              0.5555555555555556,
              "#d8576b"
             ],
             [
              0.6666666666666666,
              "#ed7953"
             ],
             [
              0.7777777777777778,
              "#fb9f3a"
             ],
             [
              0.8888888888888888,
              "#fdca26"
             ],
             [
              1,
              "#f0f921"
             ]
            ],
            "type": "surface"
           }
          ],
          "table": [
           {
            "cells": {
             "fill": {
              "color": "#EBF0F8"
             },
             "line": {
              "color": "white"
             }
            },
            "header": {
             "fill": {
              "color": "#C8D4E3"
             },
             "line": {
              "color": "white"
             }
            },
            "type": "table"
           }
          ]
         },
         "layout": {
          "annotationdefaults": {
           "arrowcolor": "#2a3f5f",
           "arrowhead": 0,
           "arrowwidth": 1
          },
          "autotypenumbers": "strict",
          "coloraxis": {
           "colorbar": {
            "outlinewidth": 0,
            "ticks": ""
           }
          },
          "colorscale": {
           "diverging": [
            [
             0,
             "#8e0152"
            ],
            [
             0.1,
             "#c51b7d"
            ],
            [
             0.2,
             "#de77ae"
            ],
            [
             0.3,
             "#f1b6da"
            ],
            [
             0.4,
             "#fde0ef"
            ],
            [
             0.5,
             "#f7f7f7"
            ],
            [
             0.6,
             "#e6f5d0"
            ],
            [
             0.7,
             "#b8e186"
            ],
            [
             0.8,
             "#7fbc41"
            ],
            [
             0.9,
             "#4d9221"
            ],
            [
             1,
             "#276419"
            ]
           ],
           "sequential": [
            [
             0,
             "#0d0887"
            ],
            [
             0.1111111111111111,
             "#46039f"
            ],
            [
             0.2222222222222222,
             "#7201a8"
            ],
            [
             0.3333333333333333,
             "#9c179e"
            ],
            [
             0.4444444444444444,
             "#bd3786"
            ],
            [
             0.5555555555555556,
             "#d8576b"
            ],
            [
             0.6666666666666666,
             "#ed7953"
            ],
            [
             0.7777777777777778,
             "#fb9f3a"
            ],
            [
             0.8888888888888888,
             "#fdca26"
            ],
            [
             1,
             "#f0f921"
            ]
           ],
           "sequentialminus": [
            [
             0,
             "#0d0887"
            ],
            [
             0.1111111111111111,
             "#46039f"
            ],
            [
             0.2222222222222222,
             "#7201a8"
            ],
            [
             0.3333333333333333,
             "#9c179e"
            ],
            [
             0.4444444444444444,
             "#bd3786"
            ],
            [
             0.5555555555555556,
             "#d8576b"
            ],
            [
             0.6666666666666666,
             "#ed7953"
            ],
            [
             0.7777777777777778,
             "#fb9f3a"
            ],
            [
             0.8888888888888888,
             "#fdca26"
            ],
            [
             1,
             "#f0f921"
            ]
           ]
          },
          "colorway": [
           "#636efa",
           "#EF553B",
           "#00cc96",
           "#ab63fa",
           "#FFA15A",
           "#19d3f3",
           "#FF6692",
           "#B6E880",
           "#FF97FF",
           "#FECB52"
          ],
          "font": {
           "color": "#2a3f5f"
          },
          "geo": {
           "bgcolor": "white",
           "lakecolor": "white",
           "landcolor": "#E5ECF6",
           "showlakes": true,
           "showland": true,
           "subunitcolor": "white"
          },
          "hoverlabel": {
           "align": "left"
          },
          "hovermode": "closest",
          "mapbox": {
           "style": "light"
          },
          "paper_bgcolor": "white",
          "plot_bgcolor": "#E5ECF6",
          "polar": {
           "angularaxis": {
            "gridcolor": "white",
            "linecolor": "white",
            "ticks": ""
           },
           "bgcolor": "#E5ECF6",
           "radialaxis": {
            "gridcolor": "white",
            "linecolor": "white",
            "ticks": ""
           }
          },
          "scene": {
           "xaxis": {
            "backgroundcolor": "#E5ECF6",
            "gridcolor": "white",
            "gridwidth": 2,
            "linecolor": "white",
            "showbackground": true,
            "ticks": "",
            "zerolinecolor": "white"
           },
           "yaxis": {
            "backgroundcolor": "#E5ECF6",
            "gridcolor": "white",
            "gridwidth": 2,
            "linecolor": "white",
            "showbackground": true,
            "ticks": "",
            "zerolinecolor": "white"
           },
           "zaxis": {
            "backgroundcolor": "#E5ECF6",
            "gridcolor": "white",
            "gridwidth": 2,
            "linecolor": "white",
            "showbackground": true,
            "ticks": "",
            "zerolinecolor": "white"
           }
          },
          "shapedefaults": {
           "line": {
            "color": "#2a3f5f"
           }
          },
          "ternary": {
           "aaxis": {
            "gridcolor": "white",
            "linecolor": "white",
            "ticks": ""
           },
           "baxis": {
            "gridcolor": "white",
            "linecolor": "white",
            "ticks": ""
           },
           "bgcolor": "#E5ECF6",
           "caxis": {
            "gridcolor": "white",
            "linecolor": "white",
            "ticks": ""
           }
          },
          "title": {
           "x": 0.05
          },
          "xaxis": {
           "automargin": true,
           "gridcolor": "white",
           "linecolor": "white",
           "ticks": "",
           "title": {
            "standoff": 15
           },
           "zerolinecolor": "white",
           "zerolinewidth": 2
          },
          "yaxis": {
           "automargin": true,
           "gridcolor": "white",
           "linecolor": "white",
           "ticks": "",
           "title": {
            "standoff": 15
           },
           "zerolinecolor": "white",
           "zerolinewidth": 2
          }
         }
        },
        "title": {
         "text": "UMAP Projection of TF-IDF Embeddings"
        },
        "xaxis": {
         "anchor": "y",
         "domain": [
          0,
          1
         ],
         "title": {
          "text": "UMAP 1"
         }
        },
        "yaxis": {
         "anchor": "x",
         "domain": [
          0,
          1
         ],
         "title": {
          "text": "UMAP 2"
         }
        }
       }
      }
     },
     "metadata": {},
     "output_type": "display_data"
    },
    {
     "data": {
      "application/vnd.plotly.v1+json": {
       "config": {
        "plotlyServerURL": "https://plot.ly"
       },
       "data": [
        {
         "customdata": [
          [
           "Title: Here's the moment Nvidia became the AI king and what it must do this week to keep the throne"
          ],
          [
           "Title: Tens Summoned by Criminal Police Over Protests"
          ],
          [
           "Title: How are you using AI to cope with grief? We want to hear from you"
          ],
          [
           "Title: Border Patrol agents reveal how easily terrorists and killers get into US despite being screened"
          ],
          [
           "Title: Tech firm set to launch AI product, train students"
          ],
          [
           "Title: German, French Leaders Say Georgian Government, Ruling Party “Deviate” from EU Path"
          ],
          [
           "Title: Process of making passport will be made easier, says Naqvi"
          ],
          [
           "Title: Brace up for AI, robotics, automation threats, CIPM boss charges workers"
          ],
          [
           "Title: Buildout, Inc. Unveils Game-Changing Technology Stack including an AI-Enabled Mobile App"
          ],
          [
           "Title: Danny Batth hints he's set to become free agent less than a year after Norwich City move in 42-word message"
          ],
          [
           "Title: Personal Data Protection Service Says Regulatory Clarifications are Necessary in the Agents’ Law"
          ],
          [
           "Title: Denver Broncos could resurrect career of former All-Pro wide receiver"
          ],
          [
           "Title: 20 Premier League free agents Leeds United could sign including Arsenal, Newcastle United and Everton stars"
          ],
          [
           "Title: Among AI infrastructure hopefuls, Qualcomm has become an unlikely ally"
          ],
          [
           "Title: Bruins’ Jeremy Swayman Shares Clear Goal For Free Agency"
          ],
          [
           "Title: Fund thesis: AI is the X-factor "
          ],
          [
           "Title: Despite Salaries Below $500,000, Here’s How College Football Coaches Build Million-Dollar Empires"
          ],
          [
           "Title: Customer service staff hired at HMRC – without speaking to a human"
          ],
          [
           "Title: Swecha to develop Telugu language-centric Large Language Models"
          ],
          [
           "Title: Beursweek begint rustig, beleggers kijken uit naar Fed en Nvidia"
          ],
          [
           "Title: Putin pressas av hemliga agenter på hemmaplan"
          ],
          [
           "Title: 12 New York Giants free agents remain as OTAs begin"
          ],
          [
           "Title: Heroes in green: Guardia Civil rescues baby locked in car"
          ],
          [
           "Title: Finland to present plan to push back migrants on Russian border"
          ],
          [
           "Title: Spam, junk … slop? The latest wave of AI behind the ‘zombie internet’"
          ]
         ],
         "hovertemplate": "color=article<br>UMAP 1=%{x}<br>UMAP 2=%{y}<br>text=%{customdata[0]}<extra></extra>",
         "legendgroup": "article",
         "marker": {
          "color": "#636efa",
          "symbol": "circle"
         },
         "mode": "markers",
         "name": "article",
         "orientation": "v",
         "showlegend": true,
         "type": "scatter",
         "x": [
          10.396626472473145,
          7.849327564239502,
          11.019425392150879,
          9.167037963867188,
          10.165543556213379,
          8.457542419433594,
          8.674473762512207,
          9.544163703918457,
          11.338839530944824,
          9.200732231140137,
          8.06754207611084,
          7.777710437774658,
          8.243721008300781,
          9.4631929397583,
          10.68526554107666,
          9.169767379760742,
          11.137636184692383,
          9.830920219421387,
          11.077012062072754,
          9.094590187072754,
          9.372310638427734,
          8.83637809753418,
          7.696749210357666,
          9.204832077026367,
          9.853032112121582
         ],
         "xaxis": "x",
         "y": [
          -2.0957038402557373,
          -2.924882173538208,
          -3.3821680545806885,
          -0.5825303196907043,
          -2.2903552055358887,
          -2.845114231109619,
          -1.5116488933563232,
          -3.5368831157684326,
          -3.719890594482422,
          -0.3932064473628998,
          -3.2769289016723633,
          -0.7926260232925415,
          -0.5647876262664795,
          -4.2462544441223145,
          -1.7534208297729492,
          -3.8687472343444824,
          -3.8276827335357666,
          -2.391437530517578,
          -2.4981606006622314,
          -3.0911080837249756,
          -2.8007400035858154,
          -0.1872113198041916,
          -2.4599578380584717,
          -2.2881460189819336,
          -2.8634321689605713
         ],
         "yaxis": "y"
        },
        {
         "customdata": [
          [
           "Title: Huginn: Create agents that monitor and act on your behalf"
          ],
          [
           "Title: Agents raid home of fired Florida data scientist who built Covid-19 dashboard"
          ],
          [
           "Title: Amazon reportedly has Pinkerton agents surveil workers who try to form unions"
          ],
          [
           "Title: I am under surveillance by Canadian agents, my computer has been backdoored"
          ],
          [
           "Title: U.S. directs agents to cover up program used to investigate Americans"
          ],
          [
           "Title: FBI agents accuse CIA of 9/11 coverup"
          ],
          [
           "Title: SCOTUS rules you may sue government agents for damages when they violate rights"
          ],
          [
           "Title: Generative Agents: Interactive Simulacra of Human Behavior"
          ],
          [
           "Title: Sergey Aleynikov Sues FBI Agents Who Arrested Him"
          ],
          [
           "Title: Be Careful when Speaking to Federal Agents - 18 U.S.C. Section 1001"
          ]
         ],
         "hovertemplate": "color=hacker-news<br>UMAP 1=%{x}<br>UMAP 2=%{y}<br>text=%{customdata[0]}<extra></extra>",
         "legendgroup": "hacker-news",
         "marker": {
          "color": "#EF553B",
          "symbol": "circle"
         },
         "mode": "markers",
         "name": "hacker-news",
         "orientation": "v",
         "showlegend": true,
         "type": "scatter",
         "x": [
          9.935559272766113,
          7.796825408935547,
          8.005969047546387,
          9.250980377197266,
          7.745969295501709,
          8.557397842407227,
          8.646015167236328,
          12.762399673461914,
          8.611645698547363,
          8.149005889892578
         ],
         "xaxis": "x",
         "y": [
          0.08585953712463379,
          -1.8882204294204712,
          -1.4987366199493408,
          -1.270977258682251,
          -1.5582212209701538,
          -2.925421714782715,
          -0.9985781311988831,
          -4.78749418258667,
          -1.938781976699829,
          -2.147186279296875
         ],
         "yaxis": "y"
        },
        {
         "customdata": [
          [
           "Title: How Far Are We From AGI"
          ],
          [
           "Title: Societal Adaptation to Advanced AI"
          ],
          [
           "Title: Fine-Tuning Large Vision-Language Models as Decision-Making Agents via Reinforcement Learning"
          ],
          [
           "Title: Biasing & Debiasing based Approach Towards Fair Knowledge Transfer for Equitable Skin Analysis"
          ],
          [
           "Title: When LLMs step into the 3D World: A Survey and Meta-Analysis of 3D Tasks via Multi-modal Large Language Models"
          ],
          [
           "Title: Co-Matching: Towards Human-Machine Collaborative Legal Case Matching"
          ],
          [
           "Title: Novel Data Models for Inter-operable LCA Frameworks"
          ],
          [
           "Title: A Design Trajectory Map of Human-AI Collaborative Reinforcement Learning Systems: Survey and Taxonomy"
          ],
          [
           "Title: GPT Store Mining and Analysis"
          ],
          [
           "Title: \"The Death of Wikipedia?\" -- Exploring the Impact of ChatGPT on Wikipedia Engagement"
          ],
          [
           "Title: A Guide to Tracking Phylogenies in Parallel and Distributed Agent-based Evolution Models"
          ],
          [
           "Title: Speaker Verification in Agent-Generated Conversations"
          ],
          [
           "Title: Towards Consistent and Explainable Motion Prediction using Heterogeneous Graph Attention"
          ],
          [
           "Title: StyloAI: Distinguishing AI-Generated Content with Stylometric Analysis"
          ],
          [
           "Title: Red Teaming Language Models for Contradictory Dialogues"
          ],
          [
           "Title: When Large Language Model Meets Optimization"
          ],
          [
           "Title: Optimizing Search and Rescue UAV Connectivity in Challenging Terrain through Multi Q-Learning"
          ],
          [
           "Title: Silicon nitride integrated photonics from visible to mid-infrared spectra"
          ],
          [
           "Title: Solving the enigma: Deriving optimal explanations of deep networks"
          ],
          [
           "Title: Semantic Communication via Rate Distortion Perception Bottleneck"
          ],
          [
           "Title: Pedestrian evacuations with imitation of cooperative behavior"
          ],
          [
           "Title: Mitigating Text Toxicity with Counterfactual Generation"
          ],
          [
           "Title: DEBATE: Devil's Advocate-Based Assessment and Text Evaluation"
          ],
          [
           "Title: Stock Market Dynamics Through Deep Learning Context"
          ],
          [
           "Title: Infrared Adversarial Car Stickers"
          ],
          [
           "Title: \"Hunt Takes Hare\": Theming Games Through Game-Word Vector Translation"
          ],
          [
           "Title: IGOT: Information Gain Optimized Tokenizer on Domain Adaptive Pretraining"
          ],
          [
           "Title: Organizational Selection of Innovation"
          ],
          [
           "Title: Nearly Minimax Optimal Regret for Multinomial Logistic Bandit"
          ],
          [
           "Title: Human-AI Safety: A Descendant of Generative AI and Control Systems Safety"
          ]
         ],
         "hovertemplate": "color=paper<br>UMAP 1=%{x}<br>UMAP 2=%{y}<br>text=%{customdata[0]}<extra></extra>",
         "legendgroup": "paper",
         "marker": {
          "color": "#00cc96",
          "symbol": "circle"
         },
         "mode": "markers",
         "name": "paper",
         "orientation": "v",
         "showlegend": true,
         "type": "scatter",
         "x": [
          10.20743465423584,
          9.453758239746094,
          11.807561874389648,
          11.00312328338623,
          11.094217300415039,
          11.70265007019043,
          10.95107650756836,
          11.505975723266602,
          10.723481178283691,
          10.23304271697998,
          12.255809783935547,
          12.132585525512695,
          11.791457176208496,
          10.540597915649414,
          11.734039306640625,
          11.925639152526855,
          11.625020980834961,
          11.325759887695312,
          10.694710731506348,
          12.158811569213867,
          11.402299880981445,
          11.351690292358398,
          12.454840660095215,
          11.672715187072754,
          10.460262298583984,
          12.1348295211792,
          11.162699699401855,
          11.282363891601562,
          12.092759132385254,
          9.694239616394043
         ],
         "xaxis": "x",
         "y": [
          -4.4754204750061035,
          -4.580316066741943,
          -5.541260719299316,
          -4.884652137756348,
          -2.9726507663726807,
          -4.424731731414795,
          -4.631496429443359,
          -4.50716495513916,
          -3.159311056137085,
          -3.428617000579834,
          -4.0564727783203125,
          -4.9347243309021,
          -6.443721771240234,
          -3.9462101459503174,
          -5.037384033203125,
          -3.5650150775909424,
          -5.887700080871582,
          -3.2765252590179443,
          -5.273587703704834,
          -6.208410263061523,
          -6.153581619262695,
          -4.736583232879639,
          -4.479671955108643,
          -5.144984245300293,
          -4.963733673095703,
          -5.962136745452881,
          -5.442744255065918,
          -2.0718367099761963,
          -5.105851173400879,
          -4.712620258331299
         ],
         "yaxis": "y"
        },
        {
         "customdata": [
          [
           "Title: LLM Agent platforms"
          ],
          [
           "Title: CRISPR-GPT: An LLM Agent for Automated Design of Gene-Editing Experiments"
          ],
          [
           "Title: Nuggt: A LLM Agent that runs on Wizcoder-15B (4-bit Quantised). It's time to democratise LLM Agents"
          ],
          [
           "Title: No, LLM Agents can not Autonomously Exploit One-day Vulnerabilities."
          ],
          [
           "Title: [R] Data Interpreter: An LLM Agent for Data Science"
          ],
          [
           "Title: Launching AgentSearch - A local search engine for your LLM agent"
          ],
          [
           "Title: [P] Nuggt: A LLM Agent that runs on Wizcoder-15B (4-bit Quantised). It's time to democratise LLM Agents"
          ],
          [
           "Title: LLM agents can autonomously exploit one-day vulnerabilities"
          ],
          [
           "Title: [R] CRISPR-GPT: An LLM Agent for Automated Design of Gene-Editing Experiments"
          ],
          [
           "Title: Nuggt: A LLM Agent the runs on WizardCoder-15B (4-bit quantised). It's time to democratise LLM Agents"
          ],
          [
           "Title: [R] AIOS: LLM Agent Operating System"
          ],
          [
           "Title: 🌟📚 Introducing LLM-Agents-Papers-for-Simulation Repository! 📚🌟"
          ],
          [
           "Title: LLM Agents can Autonomously Exploit One-day Vulnerabilities"
          ],
          [
           "Title: AIOS: LLM Agent Operating System"
          ],
          [
           "Title: What's the use case for LLM agents?"
          ],
          [
           "Title: 🌟📚 Introducing LLM-Agents-Papers-for-Simulation Repository! 📚🌟"
          ],
          [
           "Title: LLM Agents can Autonomously Hack Websites"
          ],
          [
           "Title: LLM Agents can Autonomously Hack Websites"
          ],
          [
           "Title: Looking for best resources on LLM Agents"
          ],
          [
           "Title: LLM agent writes code to train robots"
          ]
         ],
         "hovertemplate": "color=reddit<br>UMAP 1=%{x}<br>UMAP 2=%{y}<br>text=%{customdata[0]}<extra></extra>",
         "legendgroup": "reddit",
         "marker": {
          "color": "#ab63fa",
          "symbol": "circle"
         },
         "mode": "markers",
         "name": "reddit",
         "orientation": "v",
         "showlegend": true,
         "type": "scatter",
         "x": [
          10.86568546295166,
          12.188353538513184,
          11.289721488952637,
          12.238585472106934,
          10.301084518432617,
          11.592264175415039,
          11.522237777709961,
          12.101470947265625,
          12.491104125976562,
          11.373600006103516,
          10.529181480407715,
          12.431282043457031,
          10.503190040588379,
          8.472527503967285,
          10.34058952331543,
          12.261594772338867,
          10.78463363647461,
          9.838869094848633,
          10.205890655517578,
          12.268817901611328
         ],
         "xaxis": "x",
         "y": [
          -0.036339253187179565,
          -0.677013099193573,
          -0.20727191865444183,
          -1.3555840253829956,
          0.5728747248649597,
          -0.8230454921722412,
          0.04461788013577461,
          -1.8063260316848755,
          -1.1100411415100098,
          0.2901129424571991,
          -0.7255792617797852,
          -2.919649600982666,
          -0.08213607221841812,
          -1.3718221187591553,
          0.32630276679992676,
          -2.3933329582214355,
          -1.2090867757797241,
          -0.697835385799408,
          -1.1931750774383545,
          -3.38166880607605
         ],
         "yaxis": "y"
        }
       ],
       "layout": {
        "legend": {
         "title": {
          "text": "color"
         },
         "tracegroupgap": 0
        },
        "template": {
         "data": {
          "bar": [
           {
            "error_x": {
             "color": "#2a3f5f"
            },
            "error_y": {
             "color": "#2a3f5f"
            },
            "marker": {
             "line": {
              "color": "#E5ECF6",
              "width": 0.5
             },
             "pattern": {
              "fillmode": "overlay",
              "size": 10,
              "solidity": 0.2
             }
            },
            "type": "bar"
           }
          ],
          "barpolar": [
           {
            "marker": {
             "line": {
              "color": "#E5ECF6",
              "width": 0.5
             },
             "pattern": {
              "fillmode": "overlay",
              "size": 10,
              "solidity": 0.2
             }
            },
            "type": "barpolar"
           }
          ],
          "carpet": [
           {
            "aaxis": {
             "endlinecolor": "#2a3f5f",
             "gridcolor": "white",
             "linecolor": "white",
             "minorgridcolor": "white",
             "startlinecolor": "#2a3f5f"
            },
            "baxis": {
             "endlinecolor": "#2a3f5f",
             "gridcolor": "white",
             "linecolor": "white",
             "minorgridcolor": "white",
             "startlinecolor": "#2a3f5f"
            },
            "type": "carpet"
           }
          ],
          "choropleth": [
           {
            "colorbar": {
             "outlinewidth": 0,
             "ticks": ""
            },
            "type": "choropleth"
           }
          ],
          "contour": [
           {
            "colorbar": {
             "outlinewidth": 0,
             "ticks": ""
            },
            "colorscale": [
             [
              0,
              "#0d0887"
             ],
             [
              0.1111111111111111,
              "#46039f"
             ],
             [
              0.2222222222222222,
              "#7201a8"
             ],
             [
              0.3333333333333333,
              "#9c179e"
             ],
             [
              0.4444444444444444,
              "#bd3786"
             ],
             [
              0.5555555555555556,
              "#d8576b"
             ],
             [
              0.6666666666666666,
              "#ed7953"
             ],
             [
              0.7777777777777778,
              "#fb9f3a"
             ],
             [
              0.8888888888888888,
              "#fdca26"
             ],
             [
              1,
              "#f0f921"
             ]
            ],
            "type": "contour"
           }
          ],
          "contourcarpet": [
           {
            "colorbar": {
             "outlinewidth": 0,
             "ticks": ""
            },
            "type": "contourcarpet"
           }
          ],
          "heatmap": [
           {
            "colorbar": {
             "outlinewidth": 0,
             "ticks": ""
            },
            "colorscale": [
             [
              0,
              "#0d0887"
             ],
             [
              0.1111111111111111,
              "#46039f"
             ],
             [
              0.2222222222222222,
              "#7201a8"
             ],
             [
              0.3333333333333333,
              "#9c179e"
             ],
             [
              0.4444444444444444,
              "#bd3786"
             ],
             [
              0.5555555555555556,
              "#d8576b"
             ],
             [
              0.6666666666666666,
              "#ed7953"
             ],
             [
              0.7777777777777778,
              "#fb9f3a"
             ],
             [
              0.8888888888888888,
              "#fdca26"
             ],
             [
              1,
              "#f0f921"
             ]
            ],
            "type": "heatmap"
           }
          ],
          "heatmapgl": [
           {
            "colorbar": {
             "outlinewidth": 0,
             "ticks": ""
            },
            "colorscale": [
             [
              0,
              "#0d0887"
             ],
             [
              0.1111111111111111,
              "#46039f"
             ],
             [
              0.2222222222222222,
              "#7201a8"
             ],
             [
              0.3333333333333333,
              "#9c179e"
             ],
             [
              0.4444444444444444,
              "#bd3786"
             ],
             [
              0.5555555555555556,
              "#d8576b"
             ],
             [
              0.6666666666666666,
              "#ed7953"
             ],
             [
              0.7777777777777778,
              "#fb9f3a"
             ],
             [
              0.8888888888888888,
              "#fdca26"
             ],
             [
              1,
              "#f0f921"
             ]
            ],
            "type": "heatmapgl"
           }
          ],
          "histogram": [
           {
            "marker": {
             "pattern": {
              "fillmode": "overlay",
              "size": 10,
              "solidity": 0.2
             }
            },
            "type": "histogram"
           }
          ],
          "histogram2d": [
           {
            "colorbar": {
             "outlinewidth": 0,
             "ticks": ""
            },
            "colorscale": [
             [
              0,
              "#0d0887"
             ],
             [
              0.1111111111111111,
              "#46039f"
             ],
             [
              0.2222222222222222,
              "#7201a8"
             ],
             [
              0.3333333333333333,
              "#9c179e"
             ],
             [
              0.4444444444444444,
              "#bd3786"
             ],
             [
              0.5555555555555556,
              "#d8576b"
             ],
             [
              0.6666666666666666,
              "#ed7953"
             ],
             [
              0.7777777777777778,
              "#fb9f3a"
             ],
             [
              0.8888888888888888,
              "#fdca26"
             ],
             [
              1,
              "#f0f921"
             ]
            ],
            "type": "histogram2d"
           }
          ],
          "histogram2dcontour": [
           {
            "colorbar": {
             "outlinewidth": 0,
             "ticks": ""
            },
            "colorscale": [
             [
              0,
              "#0d0887"
             ],
             [
              0.1111111111111111,
              "#46039f"
             ],
             [
              0.2222222222222222,
              "#7201a8"
             ],
             [
              0.3333333333333333,
              "#9c179e"
             ],
             [
              0.4444444444444444,
              "#bd3786"
             ],
             [
              0.5555555555555556,
              "#d8576b"
             ],
             [
              0.6666666666666666,
              "#ed7953"
             ],
             [
              0.7777777777777778,
              "#fb9f3a"
             ],
             [
              0.8888888888888888,
              "#fdca26"
             ],
             [
              1,
              "#f0f921"
             ]
            ],
            "type": "histogram2dcontour"
           }
          ],
          "mesh3d": [
           {
            "colorbar": {
             "outlinewidth": 0,
             "ticks": ""
            },
            "type": "mesh3d"
           }
          ],
          "parcoords": [
           {
            "line": {
             "colorbar": {
              "outlinewidth": 0,
              "ticks": ""
             }
            },
            "type": "parcoords"
           }
          ],
          "pie": [
           {
            "automargin": true,
            "type": "pie"
           }
          ],
          "scatter": [
           {
            "fillpattern": {
             "fillmode": "overlay",
             "size": 10,
             "solidity": 0.2
            },
            "type": "scatter"
           }
          ],
          "scatter3d": [
           {
            "line": {
             "colorbar": {
              "outlinewidth": 0,
              "ticks": ""
             }
            },
            "marker": {
             "colorbar": {
              "outlinewidth": 0,
              "ticks": ""
             }
            },
            "type": "scatter3d"
           }
          ],
          "scattercarpet": [
           {
            "marker": {
             "colorbar": {
              "outlinewidth": 0,
              "ticks": ""
             }
            },
            "type": "scattercarpet"
           }
          ],
          "scattergeo": [
           {
            "marker": {
             "colorbar": {
              "outlinewidth": 0,
              "ticks": ""
             }
            },
            "type": "scattergeo"
           }
          ],
          "scattergl": [
           {
            "marker": {
             "colorbar": {
              "outlinewidth": 0,
              "ticks": ""
             }
            },
            "type": "scattergl"
           }
          ],
          "scattermapbox": [
           {
            "marker": {
             "colorbar": {
              "outlinewidth": 0,
              "ticks": ""
             }
            },
            "type": "scattermapbox"
           }
          ],
          "scatterpolar": [
           {
            "marker": {
             "colorbar": {
              "outlinewidth": 0,
              "ticks": ""
             }
            },
            "type": "scatterpolar"
           }
          ],
          "scatterpolargl": [
           {
            "marker": {
             "colorbar": {
              "outlinewidth": 0,
              "ticks": ""
             }
            },
            "type": "scatterpolargl"
           }
          ],
          "scatterternary": [
           {
            "marker": {
             "colorbar": {
              "outlinewidth": 0,
              "ticks": ""
             }
            },
            "type": "scatterternary"
           }
          ],
          "surface": [
           {
            "colorbar": {
             "outlinewidth": 0,
             "ticks": ""
            },
            "colorscale": [
             [
              0,
              "#0d0887"
             ],
             [
              0.1111111111111111,
              "#46039f"
             ],
             [
              0.2222222222222222,
              "#7201a8"
             ],
             [
              0.3333333333333333,
              "#9c179e"
             ],
             [
              0.4444444444444444,
              "#bd3786"
             ],
             [
              0.5555555555555556,
              "#d8576b"
             ],
             [
              0.6666666666666666,
              "#ed7953"
             ],
             [
              0.7777777777777778,
              "#fb9f3a"
             ],
             [
              0.8888888888888888,
              "#fdca26"
             ],
             [
              1,
              "#f0f921"
             ]
            ],
            "type": "surface"
           }
          ],
          "table": [
           {
            "cells": {
             "fill": {
              "color": "#EBF0F8"
             },
             "line": {
              "color": "white"
             }
            },
            "header": {
             "fill": {
              "color": "#C8D4E3"
             },
             "line": {
              "color": "white"
             }
            },
            "type": "table"
           }
          ]
         },
         "layout": {
          "annotationdefaults": {
           "arrowcolor": "#2a3f5f",
           "arrowhead": 0,
           "arrowwidth": 1
          },
          "autotypenumbers": "strict",
          "coloraxis": {
           "colorbar": {
            "outlinewidth": 0,
            "ticks": ""
           }
          },
          "colorscale": {
           "diverging": [
            [
             0,
             "#8e0152"
            ],
            [
             0.1,
             "#c51b7d"
            ],
            [
             0.2,
             "#de77ae"
            ],
            [
             0.3,
             "#f1b6da"
            ],
            [
             0.4,
             "#fde0ef"
            ],
            [
             0.5,
             "#f7f7f7"
            ],
            [
             0.6,
             "#e6f5d0"
            ],
            [
             0.7,
             "#b8e186"
            ],
            [
             0.8,
             "#7fbc41"
            ],
            [
             0.9,
             "#4d9221"
            ],
            [
             1,
             "#276419"
            ]
           ],
           "sequential": [
            [
             0,
             "#0d0887"
            ],
            [
             0.1111111111111111,
             "#46039f"
            ],
            [
             0.2222222222222222,
             "#7201a8"
            ],
            [
             0.3333333333333333,
             "#9c179e"
            ],
            [
             0.4444444444444444,
             "#bd3786"
            ],
            [
             0.5555555555555556,
             "#d8576b"
            ],
            [
             0.6666666666666666,
             "#ed7953"
            ],
            [
             0.7777777777777778,
             "#fb9f3a"
            ],
            [
             0.8888888888888888,
             "#fdca26"
            ],
            [
             1,
             "#f0f921"
            ]
           ],
           "sequentialminus": [
            [
             0,
             "#0d0887"
            ],
            [
             0.1111111111111111,
             "#46039f"
            ],
            [
             0.2222222222222222,
             "#7201a8"
            ],
            [
             0.3333333333333333,
             "#9c179e"
            ],
            [
             0.4444444444444444,
             "#bd3786"
            ],
            [
             0.5555555555555556,
             "#d8576b"
            ],
            [
             0.6666666666666666,
             "#ed7953"
            ],
            [
             0.7777777777777778,
             "#fb9f3a"
            ],
            [
             0.8888888888888888,
             "#fdca26"
            ],
            [
             1,
             "#f0f921"
            ]
           ]
          },
          "colorway": [
           "#636efa",
           "#EF553B",
           "#00cc96",
           "#ab63fa",
           "#FFA15A",
           "#19d3f3",
           "#FF6692",
           "#B6E880",
           "#FF97FF",
           "#FECB52"
          ],
          "font": {
           "color": "#2a3f5f"
          },
          "geo": {
           "bgcolor": "white",
           "lakecolor": "white",
           "landcolor": "#E5ECF6",
           "showlakes": true,
           "showland": true,
           "subunitcolor": "white"
          },
          "hoverlabel": {
           "align": "left"
          },
          "hovermode": "closest",
          "mapbox": {
           "style": "light"
          },
          "paper_bgcolor": "white",
          "plot_bgcolor": "#E5ECF6",
          "polar": {
           "angularaxis": {
            "gridcolor": "white",
            "linecolor": "white",
            "ticks": ""
           },
           "bgcolor": "#E5ECF6",
           "radialaxis": {
            "gridcolor": "white",
            "linecolor": "white",
            "ticks": ""
           }
          },
          "scene": {
           "xaxis": {
            "backgroundcolor": "#E5ECF6",
            "gridcolor": "white",
            "gridwidth": 2,
            "linecolor": "white",
            "showbackground": true,
            "ticks": "",
            "zerolinecolor": "white"
           },
           "yaxis": {
            "backgroundcolor": "#E5ECF6",
            "gridcolor": "white",
            "gridwidth": 2,
            "linecolor": "white",
            "showbackground": true,
            "ticks": "",
            "zerolinecolor": "white"
           },
           "zaxis": {
            "backgroundcolor": "#E5ECF6",
            "gridcolor": "white",
            "gridwidth": 2,
            "linecolor": "white",
            "showbackground": true,
            "ticks": "",
            "zerolinecolor": "white"
           }
          },
          "shapedefaults": {
           "line": {
            "color": "#2a3f5f"
           }
          },
          "ternary": {
           "aaxis": {
            "gridcolor": "white",
            "linecolor": "white",
            "ticks": ""
           },
           "baxis": {
            "gridcolor": "white",
            "linecolor": "white",
            "ticks": ""
           },
           "bgcolor": "#E5ECF6",
           "caxis": {
            "gridcolor": "white",
            "linecolor": "white",
            "ticks": ""
           }
          },
          "title": {
           "x": 0.05
          },
          "xaxis": {
           "automargin": true,
           "gridcolor": "white",
           "linecolor": "white",
           "ticks": "",
           "title": {
            "standoff": 15
           },
           "zerolinecolor": "white",
           "zerolinewidth": 2
          },
          "yaxis": {
           "automargin": true,
           "gridcolor": "white",
           "linecolor": "white",
           "ticks": "",
           "title": {
            "standoff": 15
           },
           "zerolinecolor": "white",
           "zerolinewidth": 2
          }
         }
        },
        "title": {
         "text": "UMAP Projection of Doc2Vec Embeddings"
        },
        "xaxis": {
         "anchor": "y",
         "domain": [
          0,
          1
         ],
         "title": {
          "text": "UMAP 1"
         }
        },
        "yaxis": {
         "anchor": "x",
         "domain": [
          0,
          1
         ],
         "title": {
          "text": "UMAP 2"
         }
        }
       }
      }
     },
     "metadata": {},
     "output_type": "display_data"
    }
   ],
   "source": [
    "import umap\n",
    "import plotly.express as px\n",
    "\n",
    "# Apply UMAP to TF-IDF embeddings\n",
    "umap_tfidf = umap.UMAP(n_neighbors=5, min_dist=0.3, metric='cosine')\n",
    "tfidf_umap_embeddings = umap_tfidf.fit_transform(tfidf_embeddings)\n",
    "\n",
    "# Apply UMAP to Doc2Vec embeddings\n",
    "umap_doc2vec = umap.UMAP(n_neighbors=5, min_dist=0.3, metric='cosine')\n",
    "doc2vec_umap_embeddings = umap_doc2vec.fit_transform(doc2vec_embeddings)\n",
    "\n",
    "# Combine titles, texts, and types for hover information\n",
    "hover_texts = [f\"Title: {entry[0]}\" for key in data for entry in data[key]]\n",
    "document_types = [entry[2] for key in data for entry in data[key]]\n",
    "\n",
    "# Create interactive plot for TF-IDF embeddings\n",
    "fig_tfidf = px.scatter(\n",
    "    x=tfidf_umap_embeddings[:, 0], y=tfidf_umap_embeddings[:, 1],\n",
    "    color=document_types, hover_data={'text': hover_texts},\n",
    "    labels={'x': 'UMAP 1', 'y': 'UMAP 2'},\n",
    "    title='UMAP Projection of TF-IDF Embeddings'\n",
    ")\n",
    "\n",
    "# Update hover data\n",
    "fig_tfidf.update_traces(marker=dict(size=5),\n",
    "                        selector=dict(mode='markers+text'))\n",
    "\n",
    "fig_tfidf.show()\n",
    "\n",
    "# Create interactive plot for Doc2Vec embeddings\n",
    "fig_doc2vec = px.scatter(\n",
    "    x=doc2vec_umap_embeddings[:, 0], y=doc2vec_umap_embeddings[:, 1],\n",
    "    color=document_types, hover_data={'text': hover_texts},\n",
    "    labels={'x': 'UMAP 1', 'y': 'UMAP 2'},\n",
    "    title='UMAP Projection of Doc2Vec Embeddings'\n",
    ")\n",
    "\n",
    "# Update hover data\n",
    "fig_doc2vec.update_traces(marker=dict(size=5),\n",
    "                          selector=dict(mode='markers+text'))\n",
    "\n",
    "fig_doc2vec.show()\n"
   ]
  },
  {
   "cell_type": "code",
   "execution_count": 32,
   "metadata": {},
   "outputs": [
    {
     "data": {
      "application/vnd.plotly.v1+json": {
       "config": {
        "plotlyServerURL": "https://plot.ly"
       },
       "data": [
        {
         "customdata": [
          [
           "Title: Here's the moment Nvidia became the AI king and what it must do this week to keep the throne"
          ],
          [
           "Title: Tens Summoned by Criminal Police Over Protests"
          ],
          [
           "Title: How are you using AI to cope with grief? We want to hear from you"
          ],
          [
           "Title: Border Patrol agents reveal how easily terrorists and killers get into US despite being screened"
          ],
          [
           "Title: Tech firm set to launch AI product, train students"
          ],
          [
           "Title: German, French Leaders Say Georgian Government, Ruling Party “Deviate” from EU Path"
          ],
          [
           "Title: Process of making passport will be made easier, says Naqvi"
          ],
          [
           "Title: Brace up for AI, robotics, automation threats, CIPM boss charges workers"
          ],
          [
           "Title: Buildout, Inc. Unveils Game-Changing Technology Stack including an AI-Enabled Mobile App"
          ],
          [
           "Title: Danny Batth hints he's set to become free agent less than a year after Norwich City move in 42-word message"
          ],
          [
           "Title: Personal Data Protection Service Says Regulatory Clarifications are Necessary in the Agents’ Law"
          ],
          [
           "Title: Denver Broncos could resurrect career of former All-Pro wide receiver"
          ],
          [
           "Title: 20 Premier League free agents Leeds United could sign including Arsenal, Newcastle United and Everton stars"
          ],
          [
           "Title: Among AI infrastructure hopefuls, Qualcomm has become an unlikely ally"
          ],
          [
           "Title: Bruins’ Jeremy Swayman Shares Clear Goal For Free Agency"
          ],
          [
           "Title: Fund thesis: AI is the X-factor "
          ],
          [
           "Title: Despite Salaries Below $500,000, Here’s How College Football Coaches Build Million-Dollar Empires"
          ],
          [
           "Title: Customer service staff hired at HMRC – without speaking to a human"
          ],
          [
           "Title: Swecha to develop Telugu language-centric Large Language Models"
          ],
          [
           "Title: Beursweek begint rustig, beleggers kijken uit naar Fed en Nvidia"
          ],
          [
           "Title: Putin pressas av hemliga agenter på hemmaplan"
          ],
          [
           "Title: 12 New York Giants free agents remain as OTAs begin"
          ],
          [
           "Title: Heroes in green: Guardia Civil rescues baby locked in car"
          ],
          [
           "Title: Finland to present plan to push back migrants on Russian border"
          ],
          [
           "Title: Spam, junk … slop? The latest wave of AI behind the ‘zombie internet’"
          ]
         ],
         "hovertemplate": "color=article<br>UMAP 1=%{x}<br>UMAP 2=%{y}<br>text=%{customdata[0]}<extra></extra>",
         "legendgroup": "article",
         "marker": {
          "color": "#636efa",
          "symbol": "circle"
         },
         "mode": "markers",
         "name": "article",
         "orientation": "v",
         "showlegend": true,
         "type": "scatter",
         "x": [
          3.7225170135498047,
          -4.167943477630615,
          3.3105502128601074,
          -3.83593487739563,
          4.527656078338623,
          -4.061728477478027,
          -3.380997657775879,
          4.305410385131836,
          3.219942808151245,
          7.215241432189941,
          -3.8267531394958496,
          7.5068230628967285,
          7.6725172996521,
          3.12365460395813,
          7.298404216766357,
          3.9043781757354736,
          7.864232063293457,
          3.8353495597839355,
          4.862987041473389,
          4.102069854736328,
          -4.580770969390869,
          7.5409836769104,
          -3.92041277885437,
          -4.292791366577148,
          2.524536609649658
         ],
         "xaxis": "x",
         "y": [
          6.543210506439209,
          12.461012840270996,
          6.040024280548096,
          11.571968078613281,
          6.797757148742676,
          12.803241729736328,
          11.60041618347168,
          7.363304615020752,
          7.299670696258545,
          2.3464858531951904,
          12.623723983764648,
          2.055514335632324,
          1.8907465934753418,
          6.815598487854004,
          2.2634670734405518,
          6.8948540687561035,
          1.7061752080917358,
          9.35349178314209,
          7.638370037078857,
          6.621255874633789,
          12.199236869812012,
          2.0214555263519287,
          12.083168029785156,
          12.475897789001465,
          6.874080181121826
         ],
         "yaxis": "y"
        },
        {
         "customdata": [
          [
           "Title: Huginn: Create agents that monitor and act on your behalf"
          ],
          [
           "Title: Agents raid home of fired Florida data scientist who built Covid-19 dashboard"
          ],
          [
           "Title: Amazon reportedly has Pinkerton agents surveil workers who try to form unions"
          ],
          [
           "Title: I am under surveillance by Canadian agents, my computer has been backdoored"
          ],
          [
           "Title: U.S. directs agents to cover up program used to investigate Americans"
          ],
          [
           "Title: FBI agents accuse CIA of 9/11 coverup"
          ],
          [
           "Title: SCOTUS rules you may sue government agents for damages when they violate rights"
          ],
          [
           "Title: Generative Agents: Interactive Simulacra of Human Behavior"
          ],
          [
           "Title: Sergey Aleynikov Sues FBI Agents Who Arrested Him"
          ],
          [
           "Title: Be Careful when Speaking to Federal Agents - 18 U.S.C. Section 1001"
          ]
         ],
         "hovertemplate": "color=hacker-news<br>UMAP 1=%{x}<br>UMAP 2=%{y}<br>text=%{customdata[0]}<extra></extra>",
         "legendgroup": "hacker-news",
         "marker": {
          "color": "#EF553B",
          "symbol": "circle"
         },
         "mode": "markers",
         "name": "hacker-news",
         "orientation": "v",
         "showlegend": true,
         "type": "scatter",
         "x": [
          3.5043299198150635,
          -4.339168071746826,
          -4.92326021194458,
          -4.043577194213867,
          -4.756140232086182,
          -4.3499369621276855,
          -4.906368732452393,
          3.4232726097106934,
          -4.313827991485596,
          -4.5875372886657715
         ],
         "xaxis": "x",
         "y": [
          8.012696266174316,
          11.75893783569336,
          11.524012565612793,
          11.136091232299805,
          11.435413360595703,
          11.112581253051758,
          11.400104522705078,
          9.22138500213623,
          10.778573036193848,
          10.843981742858887
         ],
         "yaxis": "y"
        },
        {
         "customdata": [
          [
           "Title: How Far Are We From AGI"
          ],
          [
           "Title: Societal Adaptation to Advanced AI"
          ],
          [
           "Title: Fine-Tuning Large Vision-Language Models as Decision-Making Agents via Reinforcement Learning"
          ],
          [
           "Title: Biasing & Debiasing based Approach Towards Fair Knowledge Transfer for Equitable Skin Analysis"
          ],
          [
           "Title: When LLMs step into the 3D World: A Survey and Meta-Analysis of 3D Tasks via Multi-modal Large Language Models"
          ],
          [
           "Title: Co-Matching: Towards Human-Machine Collaborative Legal Case Matching"
          ],
          [
           "Title: Novel Data Models for Inter-operable LCA Frameworks"
          ],
          [
           "Title: A Design Trajectory Map of Human-AI Collaborative Reinforcement Learning Systems: Survey and Taxonomy"
          ],
          [
           "Title: GPT Store Mining and Analysis"
          ],
          [
           "Title: \"The Death of Wikipedia?\" -- Exploring the Impact of ChatGPT on Wikipedia Engagement"
          ],
          [
           "Title: A Guide to Tracking Phylogenies in Parallel and Distributed Agent-based Evolution Models"
          ],
          [
           "Title: Speaker Verification in Agent-Generated Conversations"
          ],
          [
           "Title: Towards Consistent and Explainable Motion Prediction using Heterogeneous Graph Attention"
          ],
          [
           "Title: StyloAI: Distinguishing AI-Generated Content with Stylometric Analysis"
          ],
          [
           "Title: Red Teaming Language Models for Contradictory Dialogues"
          ],
          [
           "Title: When Large Language Model Meets Optimization"
          ],
          [
           "Title: Optimizing Search and Rescue UAV Connectivity in Challenging Terrain through Multi Q-Learning"
          ],
          [
           "Title: Silicon nitride integrated photonics from visible to mid-infrared spectra"
          ],
          [
           "Title: Solving the enigma: Deriving optimal explanations of deep networks"
          ],
          [
           "Title: Semantic Communication via Rate Distortion Perception Bottleneck"
          ],
          [
           "Title: Pedestrian evacuations with imitation of cooperative behavior"
          ],
          [
           "Title: Mitigating Text Toxicity with Counterfactual Generation"
          ],
          [
           "Title: DEBATE: Devil's Advocate-Based Assessment and Text Evaluation"
          ],
          [
           "Title: Stock Market Dynamics Through Deep Learning Context"
          ],
          [
           "Title: Infrared Adversarial Car Stickers"
          ],
          [
           "Title: \"Hunt Takes Hare\": Theming Games Through Game-Word Vector Translation"
          ],
          [
           "Title: IGOT: Information Gain Optimized Tokenizer on Domain Adaptive Pretraining"
          ],
          [
           "Title: Organizational Selection of Innovation"
          ],
          [
           "Title: Nearly Minimax Optimal Regret for Multinomial Logistic Bandit"
          ],
          [
           "Title: Human-AI Safety: A Descendant of Generative AI and Control Systems Safety"
          ]
         ],
         "hovertemplate": "color=paper<br>UMAP 1=%{x}<br>UMAP 2=%{y}<br>text=%{customdata[0]}<extra></extra>",
         "legendgroup": "paper",
         "marker": {
          "color": "#00cc96",
          "symbol": "circle"
         },
         "mode": "markers",
         "name": "paper",
         "orientation": "v",
         "showlegend": true,
         "type": "scatter",
         "x": [
          4.417577266693115,
          3.935600757598877,
          5.077861785888672,
          5.767089366912842,
          4.768889427185059,
          4.604949474334717,
          5.380177021026611,
          5.677494049072266,
          2.7328407764434814,
          2.5678508281707764,
          6.29888391494751,
          4.459951400756836,
          6.145776271820068,
          3.226461887359619,
          4.544910430908203,
          4.955877304077148,
          5.923982620239258,
          4.86720085144043,
          6.030770778656006,
          6.415008544921875,
          4.602470874786377,
          3.479337215423584,
          3.4307754039764404,
          5.829238414764404,
          4.987080097198486,
          3.6721487045288086,
          3.1323652267456055,
          3.49965238571167,
          5.736597061157227,
          4.525538444519043
         ],
         "xaxis": "x",
         "y": [
          6.016914367675781,
          5.712303161621094,
          9.999917030334473,
          6.789456367492676,
          9.161142349243164,
          9.802168846130371,
          7.7733845710754395,
          10.16463565826416,
          9.25562858581543,
          7.814371585845947,
          8.974337577819824,
          10.20689868927002,
          6.143676280975342,
          10.374629974365234,
          10.478137969970703,
          9.399142265319824,
          9.874748229980469,
          6.424252986907959,
          6.287045955657959,
          6.607330799102783,
          5.169339179992676,
          10.528745651245117,
          10.207036018371582,
          5.917547702789307,
          5.744839668273926,
          9.827336311340332,
          9.7950439453125,
          6.967954635620117,
          10.041939735412598,
          5.406353950500488
         ],
         "yaxis": "y"
        },
        {
         "customdata": [
          [
           "Title: LLM Agent platforms"
          ],
          [
           "Title: CRISPR-GPT: An LLM Agent for Automated Design of Gene-Editing Experiments"
          ],
          [
           "Title: Nuggt: A LLM Agent that runs on Wizcoder-15B (4-bit Quantised). It's time to democratise LLM Agents"
          ],
          [
           "Title: No, LLM Agents can not Autonomously Exploit One-day Vulnerabilities."
          ],
          [
           "Title: [R] Data Interpreter: An LLM Agent for Data Science"
          ],
          [
           "Title: Launching AgentSearch - A local search engine for your LLM agent"
          ],
          [
           "Title: [P] Nuggt: A LLM Agent that runs on Wizcoder-15B (4-bit Quantised). It's time to democratise LLM Agents"
          ],
          [
           "Title: LLM agents can autonomously exploit one-day vulnerabilities"
          ],
          [
           "Title: [R] CRISPR-GPT: An LLM Agent for Automated Design of Gene-Editing Experiments"
          ],
          [
           "Title: Nuggt: A LLM Agent the runs on WizardCoder-15B (4-bit quantised). It's time to democratise LLM Agents"
          ],
          [
           "Title: [R] AIOS: LLM Agent Operating System"
          ],
          [
           "Title: 🌟📚 Introducing LLM-Agents-Papers-for-Simulation Repository! 📚🌟"
          ],
          [
           "Title: LLM Agents can Autonomously Exploit One-day Vulnerabilities"
          ],
          [
           "Title: AIOS: LLM Agent Operating System"
          ],
          [
           "Title: What's the use case for LLM agents?"
          ],
          [
           "Title: 🌟📚 Introducing LLM-Agents-Papers-for-Simulation Repository! 📚🌟"
          ],
          [
           "Title: LLM Agents can Autonomously Hack Websites"
          ],
          [
           "Title: LLM Agents can Autonomously Hack Websites"
          ],
          [
           "Title: Looking for best resources on LLM Agents"
          ],
          [
           "Title: LLM agent writes code to train robots"
          ]
         ],
         "hovertemplate": "color=reddit<br>UMAP 1=%{x}<br>UMAP 2=%{y}<br>text=%{customdata[0]}<extra></extra>",
         "legendgroup": "reddit",
         "marker": {
          "color": "#ab63fa",
          "symbol": "circle"
         },
         "mode": "markers",
         "name": "reddit",
         "orientation": "v",
         "showlegend": true,
         "type": "scatter",
         "x": [
          4.58976411819458,
          3.0890469551086426,
          3.5889251232147217,
          2.763906717300415,
          5.102582931518555,
          4.111252307891846,
          3.8224661350250244,
          2.5378429889678955,
          3.384056568145752,
          4.078076362609863,
          5.29864501953125,
          6.12296199798584,
          1.9828976392745972,
          5.302017688751221,
          4.4763078689575195,
          5.885136127471924,
          1.9777684211730957,
          1.856420636177063,
          4.942291736602783,
          4.7255706787109375
         ],
         "xaxis": "x",
         "y": [
          8.408432960510254,
          8.539306640625,
          7.764249324798584,
          7.261936187744141,
          7.974719047546387,
          7.71376371383667,
          8.265416145324707,
          6.449000358581543,
          8.613367080688477,
          8.655156135559082,
          9.019155502319336,
          8.804216384887695,
          6.308150768280029,
          8.55635929107666,
          8.345463752746582,
          8.624796867370605,
          6.5248517990112305,
          6.279209613800049,
          8.687313079833984,
          8.581015586853027
         ],
         "yaxis": "y"
        }
       ],
       "layout": {
        "legend": {
         "title": {
          "text": "color"
         },
         "tracegroupgap": 0
        },
        "template": {
         "data": {
          "bar": [
           {
            "error_x": {
             "color": "#2a3f5f"
            },
            "error_y": {
             "color": "#2a3f5f"
            },
            "marker": {
             "line": {
              "color": "#E5ECF6",
              "width": 0.5
             },
             "pattern": {
              "fillmode": "overlay",
              "size": 10,
              "solidity": 0.2
             }
            },
            "type": "bar"
           }
          ],
          "barpolar": [
           {
            "marker": {
             "line": {
              "color": "#E5ECF6",
              "width": 0.5
             },
             "pattern": {
              "fillmode": "overlay",
              "size": 10,
              "solidity": 0.2
             }
            },
            "type": "barpolar"
           }
          ],
          "carpet": [
           {
            "aaxis": {
             "endlinecolor": "#2a3f5f",
             "gridcolor": "white",
             "linecolor": "white",
             "minorgridcolor": "white",
             "startlinecolor": "#2a3f5f"
            },
            "baxis": {
             "endlinecolor": "#2a3f5f",
             "gridcolor": "white",
             "linecolor": "white",
             "minorgridcolor": "white",
             "startlinecolor": "#2a3f5f"
            },
            "type": "carpet"
           }
          ],
          "choropleth": [
           {
            "colorbar": {
             "outlinewidth": 0,
             "ticks": ""
            },
            "type": "choropleth"
           }
          ],
          "contour": [
           {
            "colorbar": {
             "outlinewidth": 0,
             "ticks": ""
            },
            "colorscale": [
             [
              0,
              "#0d0887"
             ],
             [
              0.1111111111111111,
              "#46039f"
             ],
             [
              0.2222222222222222,
              "#7201a8"
             ],
             [
              0.3333333333333333,
              "#9c179e"
             ],
             [
              0.4444444444444444,
              "#bd3786"
             ],
             [
              0.5555555555555556,
              "#d8576b"
             ],
             [
              0.6666666666666666,
              "#ed7953"
             ],
             [
              0.7777777777777778,
              "#fb9f3a"
             ],
             [
              0.8888888888888888,
              "#fdca26"
             ],
             [
              1,
              "#f0f921"
             ]
            ],
            "type": "contour"
           }
          ],
          "contourcarpet": [
           {
            "colorbar": {
             "outlinewidth": 0,
             "ticks": ""
            },
            "type": "contourcarpet"
           }
          ],
          "heatmap": [
           {
            "colorbar": {
             "outlinewidth": 0,
             "ticks": ""
            },
            "colorscale": [
             [
              0,
              "#0d0887"
             ],
             [
              0.1111111111111111,
              "#46039f"
             ],
             [
              0.2222222222222222,
              "#7201a8"
             ],
             [
              0.3333333333333333,
              "#9c179e"
             ],
             [
              0.4444444444444444,
              "#bd3786"
             ],
             [
              0.5555555555555556,
              "#d8576b"
             ],
             [
              0.6666666666666666,
              "#ed7953"
             ],
             [
              0.7777777777777778,
              "#fb9f3a"
             ],
             [
              0.8888888888888888,
              "#fdca26"
             ],
             [
              1,
              "#f0f921"
             ]
            ],
            "type": "heatmap"
           }
          ],
          "heatmapgl": [
           {
            "colorbar": {
             "outlinewidth": 0,
             "ticks": ""
            },
            "colorscale": [
             [
              0,
              "#0d0887"
             ],
             [
              0.1111111111111111,
              "#46039f"
             ],
             [
              0.2222222222222222,
              "#7201a8"
             ],
             [
              0.3333333333333333,
              "#9c179e"
             ],
             [
              0.4444444444444444,
              "#bd3786"
             ],
             [
              0.5555555555555556,
              "#d8576b"
             ],
             [
              0.6666666666666666,
              "#ed7953"
             ],
             [
              0.7777777777777778,
              "#fb9f3a"
             ],
             [
              0.8888888888888888,
              "#fdca26"
             ],
             [
              1,
              "#f0f921"
             ]
            ],
            "type": "heatmapgl"
           }
          ],
          "histogram": [
           {
            "marker": {
             "pattern": {
              "fillmode": "overlay",
              "size": 10,
              "solidity": 0.2
             }
            },
            "type": "histogram"
           }
          ],
          "histogram2d": [
           {
            "colorbar": {
             "outlinewidth": 0,
             "ticks": ""
            },
            "colorscale": [
             [
              0,
              "#0d0887"
             ],
             [
              0.1111111111111111,
              "#46039f"
             ],
             [
              0.2222222222222222,
              "#7201a8"
             ],
             [
              0.3333333333333333,
              "#9c179e"
             ],
             [
              0.4444444444444444,
              "#bd3786"
             ],
             [
              0.5555555555555556,
              "#d8576b"
             ],
             [
              0.6666666666666666,
              "#ed7953"
             ],
             [
              0.7777777777777778,
              "#fb9f3a"
             ],
             [
              0.8888888888888888,
              "#fdca26"
             ],
             [
              1,
              "#f0f921"
             ]
            ],
            "type": "histogram2d"
           }
          ],
          "histogram2dcontour": [
           {
            "colorbar": {
             "outlinewidth": 0,
             "ticks": ""
            },
            "colorscale": [
             [
              0,
              "#0d0887"
             ],
             [
              0.1111111111111111,
              "#46039f"
             ],
             [
              0.2222222222222222,
              "#7201a8"
             ],
             [
              0.3333333333333333,
              "#9c179e"
             ],
             [
              0.4444444444444444,
              "#bd3786"
             ],
             [
              0.5555555555555556,
              "#d8576b"
             ],
             [
              0.6666666666666666,
              "#ed7953"
             ],
             [
              0.7777777777777778,
              "#fb9f3a"
             ],
             [
              0.8888888888888888,
              "#fdca26"
             ],
             [
              1,
              "#f0f921"
             ]
            ],
            "type": "histogram2dcontour"
           }
          ],
          "mesh3d": [
           {
            "colorbar": {
             "outlinewidth": 0,
             "ticks": ""
            },
            "type": "mesh3d"
           }
          ],
          "parcoords": [
           {
            "line": {
             "colorbar": {
              "outlinewidth": 0,
              "ticks": ""
             }
            },
            "type": "parcoords"
           }
          ],
          "pie": [
           {
            "automargin": true,
            "type": "pie"
           }
          ],
          "scatter": [
           {
            "fillpattern": {
             "fillmode": "overlay",
             "size": 10,
             "solidity": 0.2
            },
            "type": "scatter"
           }
          ],
          "scatter3d": [
           {
            "line": {
             "colorbar": {
              "outlinewidth": 0,
              "ticks": ""
             }
            },
            "marker": {
             "colorbar": {
              "outlinewidth": 0,
              "ticks": ""
             }
            },
            "type": "scatter3d"
           }
          ],
          "scattercarpet": [
           {
            "marker": {
             "colorbar": {
              "outlinewidth": 0,
              "ticks": ""
             }
            },
            "type": "scattercarpet"
           }
          ],
          "scattergeo": [
           {
            "marker": {
             "colorbar": {
              "outlinewidth": 0,
              "ticks": ""
             }
            },
            "type": "scattergeo"
           }
          ],
          "scattergl": [
           {
            "marker": {
             "colorbar": {
              "outlinewidth": 0,
              "ticks": ""
             }
            },
            "type": "scattergl"
           }
          ],
          "scattermapbox": [
           {
            "marker": {
             "colorbar": {
              "outlinewidth": 0,
              "ticks": ""
             }
            },
            "type": "scattermapbox"
           }
          ],
          "scatterpolar": [
           {
            "marker": {
             "colorbar": {
              "outlinewidth": 0,
              "ticks": ""
             }
            },
            "type": "scatterpolar"
           }
          ],
          "scatterpolargl": [
           {
            "marker": {
             "colorbar": {
              "outlinewidth": 0,
              "ticks": ""
             }
            },
            "type": "scatterpolargl"
           }
          ],
          "scatterternary": [
           {
            "marker": {
             "colorbar": {
              "outlinewidth": 0,
              "ticks": ""
             }
            },
            "type": "scatterternary"
           }
          ],
          "surface": [
           {
            "colorbar": {
             "outlinewidth": 0,
             "ticks": ""
            },
            "colorscale": [
             [
              0,
              "#0d0887"
             ],
             [
              0.1111111111111111,
              "#46039f"
             ],
             [
              0.2222222222222222,
              "#7201a8"
             ],
             [
              0.3333333333333333,
              "#9c179e"
             ],
             [
              0.4444444444444444,
              "#bd3786"
             ],
             [
              0.5555555555555556,
              "#d8576b"
             ],
             [
              0.6666666666666666,
              "#ed7953"
             ],
             [
              0.7777777777777778,
              "#fb9f3a"
             ],
             [
              0.8888888888888888,
              "#fdca26"
             ],
             [
              1,
              "#f0f921"
             ]
            ],
            "type": "surface"
           }
          ],
          "table": [
           {
            "cells": {
             "fill": {
              "color": "#EBF0F8"
             },
             "line": {
              "color": "white"
             }
            },
            "header": {
             "fill": {
              "color": "#C8D4E3"
             },
             "line": {
              "color": "white"
             }
            },
            "type": "table"
           }
          ]
         },
         "layout": {
          "annotationdefaults": {
           "arrowcolor": "#2a3f5f",
           "arrowhead": 0,
           "arrowwidth": 1
          },
          "autotypenumbers": "strict",
          "coloraxis": {
           "colorbar": {
            "outlinewidth": 0,
            "ticks": ""
           }
          },
          "colorscale": {
           "diverging": [
            [
             0,
             "#8e0152"
            ],
            [
             0.1,
             "#c51b7d"
            ],
            [
             0.2,
             "#de77ae"
            ],
            [
             0.3,
             "#f1b6da"
            ],
            [
             0.4,
             "#fde0ef"
            ],
            [
             0.5,
             "#f7f7f7"
            ],
            [
             0.6,
             "#e6f5d0"
            ],
            [
             0.7,
             "#b8e186"
            ],
            [
             0.8,
             "#7fbc41"
            ],
            [
             0.9,
             "#4d9221"
            ],
            [
             1,
             "#276419"
            ]
           ],
           "sequential": [
            [
             0,
             "#0d0887"
            ],
            [
             0.1111111111111111,
             "#46039f"
            ],
            [
             0.2222222222222222,
             "#7201a8"
            ],
            [
             0.3333333333333333,
             "#9c179e"
            ],
            [
             0.4444444444444444,
             "#bd3786"
            ],
            [
             0.5555555555555556,
             "#d8576b"
            ],
            [
             0.6666666666666666,
             "#ed7953"
            ],
            [
             0.7777777777777778,
             "#fb9f3a"
            ],
            [
             0.8888888888888888,
             "#fdca26"
            ],
            [
             1,
             "#f0f921"
            ]
           ],
           "sequentialminus": [
            [
             0,
             "#0d0887"
            ],
            [
             0.1111111111111111,
             "#46039f"
            ],
            [
             0.2222222222222222,
             "#7201a8"
            ],
            [
             0.3333333333333333,
             "#9c179e"
            ],
            [
             0.4444444444444444,
             "#bd3786"
            ],
            [
             0.5555555555555556,
             "#d8576b"
            ],
            [
             0.6666666666666666,
             "#ed7953"
            ],
            [
             0.7777777777777778,
             "#fb9f3a"
            ],
            [
             0.8888888888888888,
             "#fdca26"
            ],
            [
             1,
             "#f0f921"
            ]
           ]
          },
          "colorway": [
           "#636efa",
           "#EF553B",
           "#00cc96",
           "#ab63fa",
           "#FFA15A",
           "#19d3f3",
           "#FF6692",
           "#B6E880",
           "#FF97FF",
           "#FECB52"
          ],
          "font": {
           "color": "#2a3f5f"
          },
          "geo": {
           "bgcolor": "white",
           "lakecolor": "white",
           "landcolor": "#E5ECF6",
           "showlakes": true,
           "showland": true,
           "subunitcolor": "white"
          },
          "hoverlabel": {
           "align": "left"
          },
          "hovermode": "closest",
          "mapbox": {
           "style": "light"
          },
          "paper_bgcolor": "white",
          "plot_bgcolor": "#E5ECF6",
          "polar": {
           "angularaxis": {
            "gridcolor": "white",
            "linecolor": "white",
            "ticks": ""
           },
           "bgcolor": "#E5ECF6",
           "radialaxis": {
            "gridcolor": "white",
            "linecolor": "white",
            "ticks": ""
           }
          },
          "scene": {
           "xaxis": {
            "backgroundcolor": "#E5ECF6",
            "gridcolor": "white",
            "gridwidth": 2,
            "linecolor": "white",
            "showbackground": true,
            "ticks": "",
            "zerolinecolor": "white"
           },
           "yaxis": {
            "backgroundcolor": "#E5ECF6",
            "gridcolor": "white",
            "gridwidth": 2,
            "linecolor": "white",
            "showbackground": true,
            "ticks": "",
            "zerolinecolor": "white"
           },
           "zaxis": {
            "backgroundcolor": "#E5ECF6",
            "gridcolor": "white",
            "gridwidth": 2,
            "linecolor": "white",
            "showbackground": true,
            "ticks": "",
            "zerolinecolor": "white"
           }
          },
          "shapedefaults": {
           "line": {
            "color": "#2a3f5f"
           }
          },
          "ternary": {
           "aaxis": {
            "gridcolor": "white",
            "linecolor": "white",
            "ticks": ""
           },
           "baxis": {
            "gridcolor": "white",
            "linecolor": "white",
            "ticks": ""
           },
           "bgcolor": "#E5ECF6",
           "caxis": {
            "gridcolor": "white",
            "linecolor": "white",
            "ticks": ""
           }
          },
          "title": {
           "x": 0.05
          },
          "xaxis": {
           "automargin": true,
           "gridcolor": "white",
           "linecolor": "white",
           "ticks": "",
           "title": {
            "standoff": 15
           },
           "zerolinecolor": "white",
           "zerolinewidth": 2
          },
          "yaxis": {
           "automargin": true,
           "gridcolor": "white",
           "linecolor": "white",
           "ticks": "",
           "title": {
            "standoff": 15
           },
           "zerolinecolor": "white",
           "zerolinewidth": 2
          }
         }
        },
        "title": {
         "text": "UMAP Projection of SentenceTransformers Embeddings"
        },
        "xaxis": {
         "anchor": "y",
         "domain": [
          0,
          1
         ],
         "title": {
          "text": "UMAP 1"
         }
        },
        "yaxis": {
         "anchor": "x",
         "domain": [
          0,
          1
         ],
         "title": {
          "text": "UMAP 2"
         }
        }
       }
      }
     },
     "metadata": {},
     "output_type": "display_data"
    }
   ],
   "source": [
    "from sentence_transformers import SentenceTransformer\n",
    "\n",
    "\n",
    "# Generate SentenceTransformers embeddings\n",
    "model = SentenceTransformer('all-mpnet-base-v2')\n",
    "sentence_embeddings = model.encode(processed_documents)\n",
    "\n",
    "# Apply UMAP to SentenceTransformers embeddings\n",
    "umap_sentence = umap.UMAP(n_neighbors=5, min_dist=0.3, metric='cosine')\n",
    "sentence_umap_embeddings = umap_sentence.fit_transform(sentence_embeddings)\n",
    "\n",
    "# Combine titles, texts, and types for hover information\n",
    "hover_texts = [f\"Title: {entry[0]}\" for key in data for entry in data[key]]\n",
    "document_types = [entry[2] for key in data for entry in data[key]]\n",
    "\n",
    "# Create interactive plot for SentenceTransformers embeddings\n",
    "fig_sentence = px.scatter(\n",
    "    x=sentence_umap_embeddings[:, 0], y=sentence_umap_embeddings[:, 1],\n",
    "    color=document_types, hover_data={'text': hover_texts},\n",
    "    labels={'x': 'UMAP 1', 'y': 'UMAP 2'},\n",
    "    title='UMAP Projection of SentenceTransformers Embeddings'\n",
    ")\n",
    "\n",
    "# Update hover data\n",
    "fig_sentence.update_traces(marker=dict(size=5),\n",
    "                           selector=dict(mode='markers+text'))\n",
    "\n",
    "fig_sentence.show()"
   ]
  },
  {
   "cell_type": "code",
   "execution_count": null,
   "metadata": {},
   "outputs": [],
   "source": [
    "# click \n",
    "# zoom in\n",
    "\n",
    "# wants another query"
   ]
  }
 ],
 "metadata": {
  "kernelspec": {
   "display_name": "Python 3",
   "language": "python",
   "name": "python3"
  },
  "language_info": {
   "codemirror_mode": {
    "name": "ipython",
    "version": 3
   },
   "file_extension": ".py",
   "mimetype": "text/x-python",
   "name": "python",
   "nbconvert_exporter": "python",
   "pygments_lexer": "ipython3",
   "version": "3.9.18"
  }
 },
 "nbformat": 4,
 "nbformat_minor": 2
}
